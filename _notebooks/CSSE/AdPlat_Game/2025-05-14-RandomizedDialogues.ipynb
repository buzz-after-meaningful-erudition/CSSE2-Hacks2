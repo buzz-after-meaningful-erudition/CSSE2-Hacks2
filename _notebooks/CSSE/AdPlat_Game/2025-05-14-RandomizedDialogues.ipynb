{
 "cells": [
  {
   "cell_type": "raw",
   "id": "9187af04",
   "metadata": {
    "vscode": {
     "languageId": "raw"
    }
   },
   "source": [
    "---\n",
    "toc: true\n",
    "comments: true\n",
    "layout: post\n",
    "title: Implenting Randomized Dialogues from Platformer to Adventure Game\n",
    "description: Learn how Randomized Dialogues are applied to NPCS \n",
    "categories: [AdPlat] \n",
    "permalink: /adplat/RandomDialogue\n",
    "author: Ruhaan Bansal, Evan Svetina\n",
    "courses: { csse: {week: 17} }\n",
    "type: ccc\n",
    "---"
   ]
  },
  {
   "cell_type": "markdown",
   "id": "4003c158",
   "metadata": {},
   "source": [
    "# Lesson: Implenting a Randomized Dialogue System with good UI for adventure Game\n",
    "### Files Involved:\n",
    "### - DialogueSystem.js (added)\n",
    "### - Current Adventure Game (modified)"
   ]
  },
  {
   "cell_type": "markdown",
   "id": "c4740e76",
   "metadata": {},
   "source": [
    "####  Part 1: Dialogue System Module Setup\n",
    "\n",
    "The system should:\n",
    "- Hold multiple possible lines.\n",
    "- Randomize which line gets shown.\n",
    "- Use HTML + CSS for a custom visual popup\n",
    " \n",
    "\n",
    "##### Below is the complete code of `DialogueSystem.js`. This is a module you have to import in your main game engine in order to implent on your adventure game."
   ]
  },
  {
   "cell_type": "code",
   "execution_count": 5,
   "id": "5e92357f",
   "metadata": {
    "vscode": {
     "languageId": "javascript"
    }
   },
   "outputs": [
    {
     "data": {
      "application/javascript": "class DialogueSystem {\n  constructor(dialogues = []) {\n    this.dialogues = dialogues.length\n      ? dialogues\n      : [\n          \"You've come far, traveler. The skies whisper your name.\",\n          \"The End holds secrets only the brave dare uncover.\",\n          \"Retrieve the elytra and embrace your destiny!\"\n        ];\n    this.dialogueBox = null;\n    this.createDialogueBox();\n  }\n\n  createDialogueBox() {\n    this.dialogueBox = document.createElement(\"div\");\n    this.dialogueBox.id = \"custom-dialogue-box\";\n    this.dialogueBox.style.position = \"fixed\";\n    this.dialogueBox.style.bottom = \"100px\";\n    this.dialogueBox.style.left = \"50%\";\n    this.dialogueBox.style.transform = \"translateX(-50%)\";\n    this.dialogueBox.style.padding = \"20px\";\n    this.dialogueBox.style.maxWidth = \"80%\";\n    this.dialogueBox.style.background = \"rgba(0, 0, 0, 0.85)\";\n    this.dialogueBox.style.color = \"#00FFFF\";\n    this.dialogueBox.style.fontFamily = \"'Press Start 2P', cursive\";\n    this.dialogueBox.style.fontSize = \"14px\";\n    this.dialogueBox.style.textAlign = \"center\";\n    this.dialogueBox.style.border = \"2px solid #4a86e8\";\n    this.dialogueBox.style.borderRadius = \"12px\";\n    this.dialogueBox.style.zIndex = \"9999\";\n    this.dialogueBox.style.boxShadow = \"0 0 20px rgba(0, 255, 255, 0.7)\";\n    this.dialogueBox.style.display = \"none\";\n\n    // Close button\n    const closeBtn = document.createElement(\"button\");\n    closeBtn.innerText = \"Close\";\n    closeBtn.style.marginTop = \"15px\";\n    closeBtn.style.padding = \"10px 20px\";\n    closeBtn.style.background = \"#4a86e8\";\n    closeBtn.style.color = \"#fff\";\n    closeBtn.style.border = \"none\";\n    closeBtn.style.borderRadius = \"5px\";\n    closeBtn.style.cursor = \"pointer\";\n    closeBtn.style.fontFamily = \"'Press Start 2P', cursive\";\n    closeBtn.onclick = () => {\n      this.dialogueBox.style.display = \"none\";\n    };\n\n    this.dialogueText = document.createElement(\"div\");\n    this.dialogueBox.appendChild(this.dialogueText);\n    this.dialogueBox.appendChild(closeBtn);\n    document.body.appendChild(this.dialogueBox);\n  }\n\n  showRandomDialogue() {\n    const randomDialogue =\n      this.dialogues[Math.floor(Math.random() * this.dialogues.length)];\n    this.dialogueText.textContent = randomDialogue;\n    this.dialogueBox.style.display = \"block\";\n  }\n}\n\nexport default DialogueSystem;\n",
      "text/plain": [
       "<IPython.core.display.Javascript object>"
      ]
     },
     "metadata": {},
     "output_type": "display_data"
    }
   ],
   "source": [
    "\n",
    "class DialogueSystem {\n",
    "  constructor(dialogues = []) {\n",
    "    this.dialogues = dialogues.length\n",
    "      ? dialogues\n",
    "      : [\n",
    "          \"You've come far, traveler. The skies whisper your name.\",\n",
    "          \"The End holds secrets only the brave dare uncover.\",\n",
    "          \"Retrieve the elytra and embrace your destiny!\"\n",
    "        ];\n",
    "    this.dialogueBox = null;\n",
    "    this.createDialogueBox();\n",
    "  }\n",
    "\n",
    "  createDialogueBox() {\n",
    "    this.dialogueBox = document.createElement(\"div\");\n",
    "    this.dialogueBox.id = \"custom-dialogue-box\";\n",
    "    this.dialogueBox.style.position = \"fixed\";\n",
    "    this.dialogueBox.style.bottom = \"100px\";\n",
    "    this.dialogueBox.style.left = \"50%\";\n",
    "    this.dialogueBox.style.transform = \"translateX(-50%)\";\n",
    "    this.dialogueBox.style.padding = \"20px\";\n",
    "    this.dialogueBox.style.maxWidth = \"80%\";\n",
    "    this.dialogueBox.style.background = \"rgba(0, 0, 0, 0.85)\";\n",
    "    this.dialogueBox.style.color = \"#00FFFF\";\n",
    "    this.dialogueBox.style.fontFamily = \"'Press Start 2P', cursive\";\n",
    "    this.dialogueBox.style.fontSize = \"14px\";\n",
    "    this.dialogueBox.style.textAlign = \"center\";\n",
    "    this.dialogueBox.style.border = \"2px solid #4a86e8\";\n",
    "    this.dialogueBox.style.borderRadius = \"12px\";\n",
    "    this.dialogueBox.style.zIndex = \"9999\";\n",
    "    this.dialogueBox.style.boxShadow = \"0 0 20px rgba(0, 255, 255, 0.7)\";\n",
    "    this.dialogueBox.style.display = \"none\";\n",
    "\n",
    "    // Close button\n",
    "    const closeBtn = document.createElement(\"button\");\n",
    "    closeBtn.innerText = \"Close\";\n",
    "    closeBtn.style.marginTop = \"15px\";\n",
    "    closeBtn.style.padding = \"10px 20px\";\n",
    "    closeBtn.style.background = \"#4a86e8\";\n",
    "    closeBtn.style.color = \"#fff\";\n",
    "    closeBtn.style.border = \"none\";\n",
    "    closeBtn.style.borderRadius = \"5px\";\n",
    "    closeBtn.style.cursor = \"pointer\";\n",
    "    closeBtn.style.fontFamily = \"'Press Start 2P', cursive\";\n",
    "    closeBtn.onclick = () => {\n",
    "      this.dialogueBox.style.display = \"none\";\n",
    "    };\n",
    "\n",
    "    this.dialogueText = document.createElement(\"div\");\n",
    "    this.dialogueBox.appendChild(this.dialogueText);\n",
    "    this.dialogueBox.appendChild(closeBtn);\n",
    "    document.body.appendChild(this.dialogueBox);\n",
    "  }\n",
    "\n",
    "  showRandomDialogue() {\n",
    "    const randomDialogue =\n",
    "      this.dialogues[Math.floor(Math.random() * this.dialogues.length)];\n",
    "    this.dialogueText.textContent = randomDialogue;\n",
    "    this.dialogueBox.style.display = \"block\";\n",
    "  }\n",
    "}\n",
    "\n",
    "export default DialogueSystem;"
   ]
  },
  {
   "cell_type": "markdown",
   "id": "f30355a3",
   "metadata": {},
   "source": [
    "\n",
    "\n",
    "In order for the Randomized Dialogue to be visible and implented on your adventure game you must need to \n",
    "- Replace the current reaction and interact method of your current npc(s)\n",
    "- Import this file called `DialogueSystem.js` into your adventure game \n",
    "- Double Check to make sure that `DialogueSystem.js` methods are properly referenced when implenting certain methods into the npc keys pair values \n",
    "\n",
    "#### Example of Implementation (Endship is the NPC)"
   ]
  },
  {
   "cell_type": "code",
   "execution_count": 6,
   "id": "eba44f87",
   "metadata": {
    "vscode": {
     "languageId": "javascript"
    }
   },
   "outputs": [
    {
     "data": {
      "application/javascript": "const sprite_data_endship = {\n  id: 'Endship',\n  greeting: sprite_greet_endship,\n  src: sprite_src_endship,\n  SCALE_FACTOR: 5,\n  ANIMATION_RATE: 1000000,\n  pixels: { height: 982, width: 900 },\n  INIT_POSITION: { x: (width / 2), y: (height / 2) },\n  orientation: { rows: 1, columns: 1 },\n  down: { row: 0, start: 0, columns: 1 },\n  hitbox: { widthPercentage: 0.1, heightPercentage: 0.2 },\n  zIndex: 10,\n  reaction: function () {\n    dialogueSystem.showRandomDialogue(); // Replaces alert\n  },\n  interact: function () {\n    let quiz = new Quiz();\n    quiz.initialize();\n    quiz.openPanel(sprite_data_endship);\n  }\n};\n",
      "text/plain": [
       "<IPython.core.display.Javascript object>"
      ]
     },
     "metadata": {},
     "output_type": "display_data"
    }
   ],
   "source": [
    "\n",
    "const sprite_data_endship = {\n",
    "  id: 'Endship',\n",
    "  greeting: sprite_greet_endship,\n",
    "  src: sprite_src_endship,\n",
    "  SCALE_FACTOR: 5,\n",
    "  ANIMATION_RATE: 1000000,\n",
    "  pixels: { height: 982, width: 900 },\n",
    "  INIT_POSITION: { x: (width / 2), y: (height / 2) },\n",
    "  orientation: { rows: 1, columns: 1 },\n",
    "  down: { row: 0, start: 0, columns: 1 },\n",
    "  hitbox: { widthPercentage: 0.1, heightPercentage: 0.2 },\n",
    "  zIndex: 10,\n",
    "  reaction: function () {\n",
    "    dialogueSystem.showRandomDialogue(); // Replaces alert\n",
    "  },\n",
    "  interact: function () {\n",
    "    let quiz = new Quiz();\n",
    "    quiz.initialize();\n",
    "    quiz.openPanel(sprite_data_endship);\n",
    "  }\n",
    "};"
   ]
  },
  {
   "cell_type": "markdown",
   "id": "49d969f0",
   "metadata": {},
   "source": [
    "### Hack 1 : Create Your Own Dialogue Set\n",
    "Create a custom DialogueSystem instance with at least 4 unique lines. Replace the default quotes with your own themed around your game (sci-fi, fantasy, mystery, etc.).\n",
    "\n",
    "### Hack 2: Apply to Multiple NPCs\n",
    "Modify at least 2 different NPCs in your game to each have their own unique DialogueSystem instance and call showRandomDialogue() when the player interacts with them.\n",
    "\n",
    "Make sure the dialogue themes match the personality of the character!\n",
    "\n",
    "### Homework: \n",
    "\n",
    "- At least two functioning NPCs with randomized dialogues.\n",
    "\n",
    "- Your game UI showing the custom dialogue box.\n",
    "\n",
    "- Brief reflection: What was the biggest challenge in integrating this system?"
   ]
  }
 ],
 "metadata": {
  "kernelspec": {
   "display_name": "Python 3",
   "language": "python",
   "name": "python3"
  },
  "language_info": {
   "codemirror_mode": {
    "name": "ipython",
    "version": 3
   },
   "file_extension": ".py",
   "mimetype": "text/x-python",
   "name": "python",
   "nbconvert_exporter": "python",
   "pygments_lexer": "ipython3",
   "version": "3.11.9"
  }
 },
 "nbformat": 4,
 "nbformat_minor": 5
}
